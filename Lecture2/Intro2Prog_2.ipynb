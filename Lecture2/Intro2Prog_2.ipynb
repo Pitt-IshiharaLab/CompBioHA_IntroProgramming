{
  "cells": [
    {
      "cell_type": "markdown",
      "metadata": {
        "id": "In2Tq_3LqQ2y"
      },
      "source": [
        "# Intro to Programming II: Dataframes & Sequencing\n",
        "\n",
        "Last lecture, we discussed **variables, operators, functions,** and **modules**, as well as five different data types.\n",
        "\n",
        "Today, we will be focusing on one data type in particular: **booleans**. We will use booleans to handle real scientific data (survey data & sequencing data) and perform preliminary dataset analysis. In this lecture, we will:\n",
        "\n",
        "* Introduce conditional statements and data structures\n",
        "* Familiarize ourselves with Pandas Dataframes\n",
        "* Analyse and plot real scientific data"
      ]
    },
    {
      "cell_type": "markdown",
      "metadata": {
        "id": "hlruzZrXOklJ"
      },
      "source": [
        "### 1 - Conditionals, briefly\n",
        "\n",
        "**Conditional statements** (if/elif/else) allow you to run or not run a line of code based on a boolean value."
      ]
    },
    {
      "cell_type": "code",
      "execution_count": null,
      "metadata": {
        "colab": {
          "base_uri": "https://localhost:8080/"
        },
        "id": "ZTGzq7K_UMxk",
        "outputId": "d87e0514-eabf-4312-a9bc-026915013202"
      },
      "outputs": [
        {
          "name": "stdout",
          "output_type": "stream",
          "text": [
            "True!\n"
          ]
        }
      ],
      "source": [
        "if True:\n",
        "  print(\"True!\")"
      ]
    },
    {
      "cell_type": "markdown",
      "metadata": {
        "id": "a5g-7TENWNP_"
      },
      "source": [
        "As with function definition, indentation is important. This is true of all Python grammar that involves a colon."
      ]
    },
    {
      "cell_type": "code",
      "execution_count": null,
      "metadata": {
        "colab": {
          "base_uri": "https://localhost:8080/",
          "height": 106
        },
        "id": "m1ss4C_LT5Vn",
        "outputId": "b43025d0-29a3-4e23-9483-0d13e8bd3136"
      },
      "outputs": [
        {
          "ename": "SyntaxError",
          "evalue": "incomplete input (<ipython-input-2-0ddb5fa58f89>, line 4)",
          "output_type": "error",
          "traceback": [
            "\u001b[0;36m  File \u001b[0;32m\"<ipython-input-2-0ddb5fa58f89>\"\u001b[0;36m, line \u001b[0;32m4\u001b[0m\n\u001b[0;31m    def can_vote(age):\u001b[0m\n\u001b[0m                      ^\u001b[0m\n\u001b[0;31mSyntaxError\u001b[0m\u001b[0;31m:\u001b[0m incomplete input\n"
          ]
        }
      ],
      "source": [
        "# Write a function that tells you (with printed text) whether or not you can vote\n",
        "# (based on age).\n",
        "# Also, practice leaving helpful comments!\n",
        "def can_vote(age):"
      ]
    },
    {
      "cell_type": "code",
      "execution_count": null,
      "metadata": {
        "colab": {
          "base_uri": "https://localhost:8080/",
          "height": 141
        },
        "id": "XVyUhNQhrSxP",
        "outputId": "2e1380f6-34cc-4d75-8f1b-18eab431ec41"
      },
      "outputs": [
        {
          "ename": "NameError",
          "evalue": "name 'can_vote' is not defined",
          "output_type": "error",
          "traceback": [
            "\u001b[0;31m---------------------------------------------------------------------------\u001b[0m",
            "\u001b[0;31mNameError\u001b[0m                                 Traceback (most recent call last)",
            "\u001b[0;32m<ipython-input-3-acca81cc9b7d>\u001b[0m in \u001b[0;36m<cell line: 1>\u001b[0;34m()\u001b[0m\n\u001b[0;32m----> 1\u001b[0;31m \u001b[0mcan_vote\u001b[0m\u001b[0;34m(\u001b[0m\u001b[0;36m20\u001b[0m\u001b[0;34m)\u001b[0m\u001b[0;34m\u001b[0m\u001b[0;34m\u001b[0m\u001b[0m\n\u001b[0m",
            "\u001b[0;31mNameError\u001b[0m: name 'can_vote' is not defined"
          ]
        }
      ],
      "source": [
        "can_vote(20)"
      ]
    },
    {
      "cell_type": "code",
      "execution_count": null,
      "metadata": {
        "id": "H-XHEcxXrZlG"
      },
      "outputs": [],
      "source": [
        "can_vote(16)"
      ]
    },
    {
      "cell_type": "markdown",
      "metadata": {
        "id": "BHi-ZbXrNz7S"
      },
      "source": [
        "### 2 - Data Structures\n",
        "\n",
        "When working with a large amount of data, there are two problems we can run into when using variables to track data:\n",
        "1. Inefficiency in variable assignment (ex. weather forecasting)\n",
        "2. Size inflexibility of the program (ex. office birthdays)\n",
        "\n",
        "To solve these problems, we frequently use **data structures**, flexible \"containers\" which can be referred to by a single variable name."
      ]
    },
    {
      "cell_type": "markdown",
      "metadata": {
        "id": "klSJNg9zHLXu"
      },
      "source": [
        "Lists are a common type of data structure. They are 1-dimensional, have an order, and can be any length.\n",
        "\n",
        "Data structures come with additional in-built methods in Python. The in-built methods for lists can be found [here](https://www.w3schools.com/python/python_lists_methods.asp)."
      ]
    },
    {
      "cell_type": "code",
      "execution_count": null,
      "metadata": {
        "id": "i8n4rEchl3Pm"
      },
      "outputs": [],
      "source": [
        "programmers = [\"Chris\",\"Elijah\",\"Luisa\",\"Keisuke\",\"Benson\"]\n",
        "birthmonths = [\"April\",\"March\",\"April\",\"May\",\"April\"]"
      ]
    },
    {
      "cell_type": "markdown",
      "metadata": {
        "id": "1ccEcEoTE6bu"
      },
      "source": [
        "Individual list elements can be called with `list_name[]`. You can also use this to assign individual list elements without reassigning the whole list. This is called **indexing**."
      ]
    },
    {
      "cell_type": "code",
      "execution_count": null,
      "metadata": {
        "colab": {
          "base_uri": "https://localhost:8080/",
          "height": 35
        },
        "id": "f9gdwhOsmUeU",
        "outputId": "192e6d03-fa14-4638-c402-d6829ddb3bf9"
      },
      "outputs": [
        {
          "data": {
            "application/vnd.google.colaboratory.intrinsic+json": {
              "type": "string"
            },
            "text/plain": [
              "'Keisuke'"
            ]
          },
          "execution_count": 5,
          "metadata": {},
          "output_type": "execute_result"
        }
      ],
      "source": [
        "# Predict the result of running this line of code.\n",
        "programmers[3]"
      ]
    },
    {
      "cell_type": "markdown",
      "metadata": {
        "id": "cM4lW36Ong1_"
      },
      "source": [
        "### 3 - Pandas Dataframes\n",
        "\n",
        "**Pandas Dataframes** provide a flexible 2-dimensional data structure, like a spreadsheet! as well as many useful functions for manipulating that data. We'll be using it to hold our RNA sequencing data.\n",
        "\n",
        "The documentation for Pandas.dataframe can be found [here](https://pandas.pydata.org/pandas-docs/stable/reference/api/pandas.DataFrame.html). Always read the documentation to get a sense of what you can and can't do with a module."
      ]
    },
    {
      "cell_type": "code",
      "execution_count": null,
      "metadata": {
        "id": "f5MiYItznao2"
      },
      "outputs": [],
      "source": [
        "# First, load the pandas module.\n",
        "import pandas as pd"
      ]
    },
    {
      "cell_type": "markdown",
      "metadata": {
        "id": "DG4Qjnx4JUOH"
      },
      "source": [
        "We'll be using [this dataset](https://www.kaggle.com/datasets/andrewmvd/heart-failure-clinical-data), sourced from Kaggle.com. (Kaggle is a great source of practice data for anyone interested in improving their data analysis skills.)\n",
        "\n",
        "Before working on the data, take a moment to read over the About section."
      ]
    },
    {
      "cell_type": "code",
      "execution_count": null,
      "metadata": {
        "colab": {
          "base_uri": "https://localhost:8080/",
          "height": 304
        },
        "id": "v7Pa7786wuW1",
        "outputId": "8e66fff1-c0e3-49fc-f92f-8e46f142e7dd"
      },
      "outputs": [
        {
          "ename": "FileNotFoundError",
          "evalue": "[Errno 2] No such file or directory: 'heart_failure_clinical_records_dataset.csv'",
          "output_type": "error",
          "traceback": [
            "\u001b[0;31m---------------------------------------------------------------------------\u001b[0m",
            "\u001b[0;31mFileNotFoundError\u001b[0m                         Traceback (most recent call last)",
            "\u001b[0;32m<ipython-input-7-4e9faaa9e05c>\u001b[0m in \u001b[0;36m<cell line: 2>\u001b[0;34m()\u001b[0m\n\u001b[1;32m      1\u001b[0m \u001b[0;31m# Then, make the dataframe.\u001b[0m\u001b[0;34m\u001b[0m\u001b[0;34m\u001b[0m\u001b[0m\n\u001b[0;32m----> 2\u001b[0;31m \u001b[0mdf\u001b[0m \u001b[0;34m=\u001b[0m \u001b[0mpd\u001b[0m\u001b[0;34m.\u001b[0m\u001b[0mread_csv\u001b[0m\u001b[0;34m(\u001b[0m\u001b[0;34m'heart_failure_clinical_records_dataset.csv'\u001b[0m\u001b[0;34m)\u001b[0m\u001b[0;34m\u001b[0m\u001b[0;34m\u001b[0m\u001b[0m\n\u001b[0m",
            "\u001b[0;32m/usr/local/lib/python3.10/dist-packages/pandas/io/parsers/readers.py\u001b[0m in \u001b[0;36mread_csv\u001b[0;34m(filepath_or_buffer, sep, delimiter, header, names, index_col, usecols, dtype, engine, converters, true_values, false_values, skipinitialspace, skiprows, skipfooter, nrows, na_values, keep_default_na, na_filter, verbose, skip_blank_lines, parse_dates, infer_datetime_format, keep_date_col, date_parser, date_format, dayfirst, cache_dates, iterator, chunksize, compression, thousands, decimal, lineterminator, quotechar, quoting, doublequote, escapechar, comment, encoding, encoding_errors, dialect, on_bad_lines, delim_whitespace, low_memory, memory_map, float_precision, storage_options, dtype_backend)\u001b[0m\n\u001b[1;32m    910\u001b[0m     \u001b[0mkwds\u001b[0m\u001b[0;34m.\u001b[0m\u001b[0mupdate\u001b[0m\u001b[0;34m(\u001b[0m\u001b[0mkwds_defaults\u001b[0m\u001b[0;34m)\u001b[0m\u001b[0;34m\u001b[0m\u001b[0;34m\u001b[0m\u001b[0m\n\u001b[1;32m    911\u001b[0m \u001b[0;34m\u001b[0m\u001b[0m\n\u001b[0;32m--> 912\u001b[0;31m     \u001b[0;32mreturn\u001b[0m \u001b[0m_read\u001b[0m\u001b[0;34m(\u001b[0m\u001b[0mfilepath_or_buffer\u001b[0m\u001b[0;34m,\u001b[0m \u001b[0mkwds\u001b[0m\u001b[0;34m)\u001b[0m\u001b[0;34m\u001b[0m\u001b[0;34m\u001b[0m\u001b[0m\n\u001b[0m\u001b[1;32m    913\u001b[0m \u001b[0;34m\u001b[0m\u001b[0m\n\u001b[1;32m    914\u001b[0m \u001b[0;34m\u001b[0m\u001b[0m\n",
            "\u001b[0;32m/usr/local/lib/python3.10/dist-packages/pandas/io/parsers/readers.py\u001b[0m in \u001b[0;36m_read\u001b[0;34m(filepath_or_buffer, kwds)\u001b[0m\n\u001b[1;32m    575\u001b[0m \u001b[0;34m\u001b[0m\u001b[0m\n\u001b[1;32m    576\u001b[0m     \u001b[0;31m# Create the parser.\u001b[0m\u001b[0;34m\u001b[0m\u001b[0;34m\u001b[0m\u001b[0m\n\u001b[0;32m--> 577\u001b[0;31m     \u001b[0mparser\u001b[0m \u001b[0;34m=\u001b[0m \u001b[0mTextFileReader\u001b[0m\u001b[0;34m(\u001b[0m\u001b[0mfilepath_or_buffer\u001b[0m\u001b[0;34m,\u001b[0m \u001b[0;34m**\u001b[0m\u001b[0mkwds\u001b[0m\u001b[0;34m)\u001b[0m\u001b[0;34m\u001b[0m\u001b[0;34m\u001b[0m\u001b[0m\n\u001b[0m\u001b[1;32m    578\u001b[0m \u001b[0;34m\u001b[0m\u001b[0m\n\u001b[1;32m    579\u001b[0m     \u001b[0;32mif\u001b[0m \u001b[0mchunksize\u001b[0m \u001b[0;32mor\u001b[0m \u001b[0miterator\u001b[0m\u001b[0;34m:\u001b[0m\u001b[0;34m\u001b[0m\u001b[0;34m\u001b[0m\u001b[0m\n",
            "\u001b[0;32m/usr/local/lib/python3.10/dist-packages/pandas/io/parsers/readers.py\u001b[0m in \u001b[0;36m__init__\u001b[0;34m(self, f, engine, **kwds)\u001b[0m\n\u001b[1;32m   1405\u001b[0m \u001b[0;34m\u001b[0m\u001b[0m\n\u001b[1;32m   1406\u001b[0m         \u001b[0mself\u001b[0m\u001b[0;34m.\u001b[0m\u001b[0mhandles\u001b[0m\u001b[0;34m:\u001b[0m \u001b[0mIOHandles\u001b[0m \u001b[0;34m|\u001b[0m \u001b[0;32mNone\u001b[0m \u001b[0;34m=\u001b[0m \u001b[0;32mNone\u001b[0m\u001b[0;34m\u001b[0m\u001b[0;34m\u001b[0m\u001b[0m\n\u001b[0;32m-> 1407\u001b[0;31m         \u001b[0mself\u001b[0m\u001b[0;34m.\u001b[0m\u001b[0m_engine\u001b[0m \u001b[0;34m=\u001b[0m \u001b[0mself\u001b[0m\u001b[0;34m.\u001b[0m\u001b[0m_make_engine\u001b[0m\u001b[0;34m(\u001b[0m\u001b[0mf\u001b[0m\u001b[0;34m,\u001b[0m \u001b[0mself\u001b[0m\u001b[0;34m.\u001b[0m\u001b[0mengine\u001b[0m\u001b[0;34m)\u001b[0m\u001b[0;34m\u001b[0m\u001b[0;34m\u001b[0m\u001b[0m\n\u001b[0m\u001b[1;32m   1408\u001b[0m \u001b[0;34m\u001b[0m\u001b[0m\n\u001b[1;32m   1409\u001b[0m     \u001b[0;32mdef\u001b[0m \u001b[0mclose\u001b[0m\u001b[0;34m(\u001b[0m\u001b[0mself\u001b[0m\u001b[0;34m)\u001b[0m \u001b[0;34m->\u001b[0m \u001b[0;32mNone\u001b[0m\u001b[0;34m:\u001b[0m\u001b[0;34m\u001b[0m\u001b[0;34m\u001b[0m\u001b[0m\n",
            "\u001b[0;32m/usr/local/lib/python3.10/dist-packages/pandas/io/parsers/readers.py\u001b[0m in \u001b[0;36m_make_engine\u001b[0;34m(self, f, engine)\u001b[0m\n\u001b[1;32m   1659\u001b[0m                 \u001b[0;32mif\u001b[0m \u001b[0;34m\"b\"\u001b[0m \u001b[0;32mnot\u001b[0m \u001b[0;32min\u001b[0m \u001b[0mmode\u001b[0m\u001b[0;34m:\u001b[0m\u001b[0;34m\u001b[0m\u001b[0;34m\u001b[0m\u001b[0m\n\u001b[1;32m   1660\u001b[0m                     \u001b[0mmode\u001b[0m \u001b[0;34m+=\u001b[0m \u001b[0;34m\"b\"\u001b[0m\u001b[0;34m\u001b[0m\u001b[0;34m\u001b[0m\u001b[0m\n\u001b[0;32m-> 1661\u001b[0;31m             self.handles = get_handle(\n\u001b[0m\u001b[1;32m   1662\u001b[0m                 \u001b[0mf\u001b[0m\u001b[0;34m,\u001b[0m\u001b[0;34m\u001b[0m\u001b[0;34m\u001b[0m\u001b[0m\n\u001b[1;32m   1663\u001b[0m                 \u001b[0mmode\u001b[0m\u001b[0;34m,\u001b[0m\u001b[0;34m\u001b[0m\u001b[0;34m\u001b[0m\u001b[0m\n",
            "\u001b[0;32m/usr/local/lib/python3.10/dist-packages/pandas/io/common.py\u001b[0m in \u001b[0;36mget_handle\u001b[0;34m(path_or_buf, mode, encoding, compression, memory_map, is_text, errors, storage_options)\u001b[0m\n\u001b[1;32m    857\u001b[0m         \u001b[0;32mif\u001b[0m \u001b[0mioargs\u001b[0m\u001b[0;34m.\u001b[0m\u001b[0mencoding\u001b[0m \u001b[0;32mand\u001b[0m \u001b[0;34m\"b\"\u001b[0m \u001b[0;32mnot\u001b[0m \u001b[0;32min\u001b[0m \u001b[0mioargs\u001b[0m\u001b[0;34m.\u001b[0m\u001b[0mmode\u001b[0m\u001b[0;34m:\u001b[0m\u001b[0;34m\u001b[0m\u001b[0;34m\u001b[0m\u001b[0m\n\u001b[1;32m    858\u001b[0m             \u001b[0;31m# Encoding\u001b[0m\u001b[0;34m\u001b[0m\u001b[0;34m\u001b[0m\u001b[0m\n\u001b[0;32m--> 859\u001b[0;31m             handle = open(\n\u001b[0m\u001b[1;32m    860\u001b[0m                 \u001b[0mhandle\u001b[0m\u001b[0;34m,\u001b[0m\u001b[0;34m\u001b[0m\u001b[0;34m\u001b[0m\u001b[0m\n\u001b[1;32m    861\u001b[0m                 \u001b[0mioargs\u001b[0m\u001b[0;34m.\u001b[0m\u001b[0mmode\u001b[0m\u001b[0;34m,\u001b[0m\u001b[0;34m\u001b[0m\u001b[0;34m\u001b[0m\u001b[0m\n",
            "\u001b[0;31mFileNotFoundError\u001b[0m: [Errno 2] No such file or directory: 'heart_failure_clinical_records_dataset.csv'"
          ]
        }
      ],
      "source": [
        "# Then, make the dataframe.\n",
        "df = pd.read_csv('heart_failure_clinical_records_dataset.csv')"
      ]
    },
    {
      "cell_type": "code",
      "execution_count": null,
      "metadata": {
        "id": "AaKwA-oUJQeX"
      },
      "outputs": [],
      "source": [
        "# Use df.head() to visually assess the data. ALWAYS check your data!\n",
        "# Note that the functions \"belong\" to df.\n",
        "df.head()\n",
        "\n",
        "# Return to the Pandas Dataframe documentation. What parameters does head() have?\n",
        "# What happens if you mess around with them?"
      ]
    },
    {
      "cell_type": "code",
      "execution_count": null,
      "metadata": {
        "id": "Ye39M93qyaFB"
      },
      "outputs": [],
      "source": [
        "# You can index a dataframe using square brackets, just like with lists.\n",
        "df['age']\n",
        "\n",
        "# You can also filter columns with dataframe_name.column_name. These notations\n",
        "# have identical functions, so use whichever appeals to you. NOTE: This doesn't\n",
        "# work if your column names have spaces in them!\n",
        "df.age"
      ]
    },
    {
      "cell_type": "code",
      "execution_count": null,
      "metadata": {
        "id": "uOsKLMvGzGG6"
      },
      "outputs": [],
      "source": [
        "# You can also filter dataframes using boolean columns.\n",
        "df[df.age==50]"
      ]
    },
    {
      "cell_type": "markdown",
      "metadata": {
        "id": "o6YmbU8OMe8r"
      },
      "source": [
        "Pandas Dataframes also has built-in plotting functions! Below, write code that generates a histogram of patient ages."
      ]
    },
    {
      "cell_type": "code",
      "execution_count": null,
      "metadata": {
        "id": "IPq2qRwOL7yz"
      },
      "outputs": [],
      "source": []
    },
    {
      "cell_type": "markdown",
      "metadata": {
        "id": "tN3aP0UbOhS7"
      },
      "source": [
        "Using the Pandas Dataframe documentation, you can already answer a wide variety of scientific questions:\n",
        "* How many patients are in the dataset?\n",
        "* How many patients were older? What was the average age?\n",
        "* How many patients deceased during the follow-up period?\n",
        "* How many deceased patients had hypertension? How does this compare to non-deceased patients?\n",
        "* Does the data suggest a correlation between hypertension and heart failure? What about smoking? Sex? Diabetes?"
      ]
    },
    {
      "cell_type": "code",
      "execution_count": null,
      "metadata": {
        "id": "3z4f6Z84OZBM"
      },
      "outputs": [],
      "source": []
    },
    {
      "cell_type": "markdown",
      "metadata": {
        "id": "D3iCuOIqSit7"
      },
      "source": [
        "If you want another dataset to practice on your own with, [this dataset](https://www.kaggle.com/datasets/fedesoriano/stroke-prediction-dataset/data) investigates comorbidities of stroke instead of heart failure."
      ]
    },
    {
      "cell_type": "markdown",
      "metadata": {
        "id": "210JEEfvngLx"
      },
      "source": [
        "### 4 - RNA Sequencing Data\n",
        "\n",
        "We're sourcing our RNA sequencing data from [another Kaggle dataset](https://www.kaggle.com/datasets/usharengaraju/indian-women-in-defense/data). Again, take a moment to read over and familiarize yourself with the About section."
      ]
    },
    {
      "cell_type": "code",
      "execution_count": null,
      "metadata": {
        "id": "FEZR2_1hRq3_"
      },
      "outputs": [],
      "source": [
        "metadata = pd.read_csv('airway_metadata.csv', index_col=0)\n",
        "seq_data = pd.read_csv('airway_scaledcounts.csv', index_col=0)"
      ]
    },
    {
      "cell_type": "code",
      "execution_count": null,
      "metadata": {
        "id": "BrzOQp0V5vMy"
      },
      "outputs": [],
      "source": [
        "# Always start by checking your data!\n",
        "seq_data.head(n=10)"
      ]
    },
    {
      "cell_type": "code",
      "execution_count": null,
      "metadata": {
        "id": "XPOVjCgBSBVA"
      },
      "outputs": [],
      "source": [
        "metadata"
      ]
    },
    {
      "cell_type": "markdown",
      "metadata": {
        "id": "yMyaLhsjhMYR"
      },
      "source": [
        "Part of the preprocessing for differential gene expression analysis requires removing non-zero rows. Why?\n",
        "\n",
        "For practice, try using the Pandas Dataframes documentation to remove all non-zero rows from the raw sequencing data."
      ]
    },
    {
      "cell_type": "code",
      "execution_count": null,
      "metadata": {
        "id": "gzKeUB8khlQS"
      },
      "outputs": [],
      "source": []
    },
    {
      "cell_type": "markdown",
      "metadata": {
        "id": "afrIXJ1yjkA0"
      },
      "source": [
        "### 6 - Plotting Data\n",
        "\n",
        "We've preprocessed the data (performed differential gene expression analysis) for you. In this section, we'll use another module, Matplotlib, to generate plots from this data."
      ]
    },
    {
      "cell_type": "code",
      "execution_count": null,
      "metadata": {
        "id": "ONZBST25hyg1"
      },
      "outputs": [],
      "source": [
        "# You can find the preprocessed data on the Github\n",
        "dgea = pd.read_csv('results_edgeR.csv', index_col=0)"
      ]
    },
    {
      "cell_type": "code",
      "execution_count": null,
      "metadata": {
        "id": "5-pUOA7I6LLp"
      },
      "outputs": [],
      "source": [
        "import numpy as np\n",
        "import matplotlib.pyplot as plt\n",
        "\n",
        "x = np.arange(0, 5, 0.1)\n",
        "y = np.sin(x)\n",
        "plt.plot(x, y)"
      ]
    },
    {
      "cell_type": "code",
      "execution_count": null,
      "metadata": {
        "id": "zsMP1tmuio1M"
      },
      "outputs": [],
      "source": [
        "# Volcano Plot\n"
      ]
    },
    {
      "cell_type": "code",
      "execution_count": null,
      "metadata": {
        "id": "tOMWlPmTirFo"
      },
      "outputs": [],
      "source": [
        "# Heatmap\n"
      ]
    }
  ],
  "metadata": {
    "colab": {
      "provenance": []
    },
    "kernelspec": {
      "display_name": "Python 3",
      "name": "python3"
    },
    "language_info": {
      "name": "python"
    }
  },
  "nbformat": 4,
  "nbformat_minor": 0
}
