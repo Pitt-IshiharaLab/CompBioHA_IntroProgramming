





if True:
  print("The boolean value is True")
else:
  print("The boolean value is False.")





x = -5

# Write code that prints "negative" if x is a negative number.
# code goes here








# Lists are a common type of data structure. They are 1-dimensional and can be
# any length.
programmers =
birthmonths =


# What __type__ are these lists?



# Individual list elements can be called with list_name[]. You can also use this
# to assign individual list elements without reassigning the whole list. This is
# called indexing.

# Predict the result of running this line of code.
programmers[3]











# First, load the pandas module.
import pandas as pd


# Next, we need some data for the dataframe.
data = {
  'name': ['Aatrox', 'Ahri', 'Akali', 'Akshan', 'Alistar', 'Amumu'],
  'hp': [650, 590, 600, 630, 685, 685],
  'winrate': [48.86, 50.14, 49.66, 51.41, 49.99, 52.34]
}





df = pd.DataFrame(data)
print(df)


# You can index a dataframe using square brackets, just like with lists.
df['name']

# You can also filter columns with dataframe_name.column_name. These notations
# have identical functions, so use whichever appeals to you.



# You can also filter dataframes using boolean columns.
df[df.name=="Aatrox"]











# Load data from Github
!wget https://raw.githubusercontent.com/Pitt-IshiharaLab/CompBioHA_IntroProgramming2024/main/heart_failure_clinical_records_dataset.csv?token=GHSAT0AAAAAACSHU3KL62PBKGZZAKWIXATQZSXMXRA -O heart_failure_dataset.csv


df = pd.read_csv('heart_failure_dataset.csv')


# Use df.head() to visually assess the data. Note that the functions "belong" to df.
df.head()

# Return to the Pandas Dataframe documentation. What parameters does head() have?
# What happens if you mess around with them?














!wget https://raw.githubusercontent.com/Pitt-IshiharaLab/CompBioHA_IntroProgramming2024/main/airway_metadata.csv?token=GHSAT0AAAAAACSHU3KKIGQBBLP4BSCNEFEUZSXNPJQ -O rnaseq_metadata.csv
!wget https://raw.githubusercontent.com/Pitt-IshiharaLab/CompBioHA_IntroProgramming2024/main/airway_scaledcounts%202.csv?token=GHSAT0AAAAAACSHU3KLBMATLN4FMLNUEAIWZSXNONA -O rnaseq_scaledcounts.csv


metadata = pd.read_csv('rnaseq_metadata.csv')
seq_data = pd.read_csv('rnaseq_scaledcounts.csv')


# Always start by checking your data!
seq_data.head(n=10)


metadata


# Remove rows with all zeros.
# Hint: Use boolean columns.
# Hint 2: The function any() returns True if any value in a list is True.
# Hint 3: You may want to drop() the ensgene column.



# Bonus: Choose a threshold and remove rows with nonzero but low expression.


















import numpy as np
import matplotlib.pyplot as plt

x = np.arange(0, 5, 0.1)
y = np.sin(x)
plt.plot(x, y)
