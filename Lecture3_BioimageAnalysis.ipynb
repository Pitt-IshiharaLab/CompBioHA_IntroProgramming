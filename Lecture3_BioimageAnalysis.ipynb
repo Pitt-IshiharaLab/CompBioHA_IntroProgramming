{
 "cells": [
  {
   "cell_type": "code",
   "execution_count": 97,
   "id": "33e30f5c-32c4-4609-82ea-6c7f6222a08b",
   "metadata": {},
   "outputs": [],
   "source": [
    "import os, glob\n",
    "\n",
    "import numpy as np\n",
    "import pandas as pd\n",
    "import matplotlib.pyplot as plt\n",
    "\n",
    "from skimage import measure, io, filters\n",
    "from skimage.morphology import closing, square\n",
    "from skimage.measure import label, regionprops"
   ]
  },
  {
   "cell_type": "markdown",
   "id": "99c5eddd-2ce0-4034-837d-6d7d64a381be",
   "metadata": {},
   "source": [
    "# An image is a grid of numbers, or matrices."
   ]
  },
  {
   "cell_type": "code",
   "execution_count": null,
   "id": "353eafb6-328e-4975-96c1-d3e77963f0be",
   "metadata": {},
   "outputs": [],
   "source": [
    "## \n",
    "dataset: 20240206T181028_OSMOTIL_001\n"
   ]
  },
  {
   "cell_type": "code",
   "execution_count": 62,
   "id": "47c2c849-14b9-48c7-b113-77fab8ae6805",
   "metadata": {},
   "outputs": [],
   "source": [
    "image_dir = './datasets/Lecture3_bioimageanalysis'\n",
    "filelist = sorted(glob.glob(os.path.join(image_dir, 'OSMOTIL_001_lasttimepoint', '*.tif')))\n",
    "wellnrs = [int(os.path.basename(f)[1:5]) for f in filelist]"
   ]
  },
  {
   "cell_type": "code",
   "execution_count": 61,
   "id": "15746f8b-5306-4591-a160-827337779b42",
   "metadata": {},
   "outputs": [],
   "source": [
    "# nrow = 8\n",
    "# wellplate = np.arange(1,12*nrow+1)\n",
    "# tokeep = wellplate.reshape((nrow,12))[:,:6].ravel()\n",
    "# todelete = [not f in tokeep for f in wellnrs]\n",
    "# for f in range(len(filelist)):\n",
    "#     if todelete[f]:\n",
    "#         os.remove(filelist[f]) "
   ]
  },
  {
   "cell_type": "code",
   "execution_count": 64,
   "id": "3b2c8672-af4d-4e9a-b909-d8a23367ec13",
   "metadata": {},
   "outputs": [],
   "source": [
    "img = io.imread(filelist[0])"
   ]
  },
  {
   "cell_type": "code",
   "execution_count": 77,
   "id": "3454bec6-c858-4299-93e1-612d07531f9c",
   "metadata": {},
   "outputs": [],
   "source": [
    "blurred = filters.gaussian(img, 1, preserve_range=True)"
   ]
  },
  {
   "cell_type": "code",
   "execution_count": 103,
   "id": "04bc992b-ae3f-46d1-91fa-e8ecc88ec41b",
   "metadata": {},
   "outputs": [],
   "source": [
    "# plt.imshow(blurred);"
   ]
  },
  {
   "cell_type": "code",
   "execution_count": 85,
   "id": "06897a75-46b0-418e-9d5a-d9387d5de86e",
   "metadata": {},
   "outputs": [],
   "source": [
    "thresh = filters.threshold_otsu(blurred)"
   ]
  },
  {
   "cell_type": "code",
   "execution_count": 86,
   "id": "fb3a0d73-7f30-4217-b344-58c0f899ad8b",
   "metadata": {},
   "outputs": [],
   "source": [
    "bw = blurred > thresh"
   ]
  },
  {
   "cell_type": "code",
   "execution_count": 98,
   "id": "440d2313-6153-4778-b246-06e58a9eb977",
   "metadata": {},
   "outputs": [],
   "source": [
    "bw = closing(blurred > thresh, square(3))"
   ]
  },
  {
   "cell_type": "code",
   "execution_count": 105,
   "id": "6c40c4ba-fcdb-429a-be16-cbed97b0293e",
   "metadata": {},
   "outputs": [],
   "source": [
    "# plt.imshow(bw)"
   ]
  },
  {
   "cell_type": "code",
   "execution_count": 107,
   "id": "d5add00c-6b5a-4386-9f6f-d2ee97a4b27d",
   "metadata": {},
   "outputs": [],
   "source": [
    "# plt.imshow(bw)"
   ]
  },
  {
   "cell_type": "code",
   "execution_count": 106,
   "id": "3afa8605-4f14-4414-a279-ebce07fab810",
   "metadata": {},
   "outputs": [],
   "source": [
    "# plt.imshow(label(bw))"
   ]
  },
  {
   "cell_type": "code",
   "execution_count": null,
   "id": "9f2f7b1c-6e8c-4c9d-b632-30deaf969af3",
   "metadata": {},
   "outputs": [],
   "source": []
  }
 ],
 "metadata": {
  "kernelspec": {
   "display_name": "Python 3 (ipykernel)",
   "language": "python",
   "name": "python3"
  },
  "language_info": {
   "codemirror_mode": {
    "name": "ipython",
    "version": 3
   },
   "file_extension": ".py",
   "mimetype": "text/x-python",
   "name": "python",
   "nbconvert_exporter": "python",
   "pygments_lexer": "ipython3",
   "version": "3.10.13"
  }
 },
 "nbformat": 4,
 "nbformat_minor": 5
}
