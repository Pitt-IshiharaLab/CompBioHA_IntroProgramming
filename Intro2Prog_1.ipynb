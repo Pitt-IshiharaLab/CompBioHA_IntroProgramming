{
  "nbformat": 4,
  "nbformat_minor": 0,
  "metadata": {
    "colab": {
      "provenance": []
    },
    "kernelspec": {
      "name": "python3",
      "display_name": "Python 3"
    },
    "language_info": {
      "name": "python"
    }
  },
  "cells": [
    {
      "cell_type": "markdown",
      "source": [
        "# Intro to Programming I: Intro to Python\n",
        "\n",
        "### 1 - Welcome to Python!!\n",
        "\n",
        "Welcome to your first Python environment! This is a Jupyter Notebook (.ipynb) file. Jupyter Notebooks are self-contained interactive Python environments, which means they store information about the language you've executed until you restart the session. (If you need to restart, go to **Runtime > Restart Session**.)\n",
        "\n",
        "Below is a cell containing source code. To **run** it, click the arrow on the left, or select it and **cmd/ctrl+enter**.\n",
        "\n",
        "(If you get a pop up, click **Run Anyway**.)"
      ],
      "metadata": {
        "id": "mIhyVPVCQIiz"
      }
    },
    {
      "cell_type": "code",
      "source": [
        "print(\"Hello, world!\")"
      ],
      "metadata": {
        "id": "DtZXub5dM0Xd"
      },
      "execution_count": null,
      "outputs": []
    },
    {
      "cell_type": "markdown",
      "source": [
        "When you run a cell, all the code inside it runs, sequentially, from top to bottom."
      ],
      "metadata": {
        "id": "RF2S1re2SrSB"
      }
    },
    {
      "cell_type": "code",
      "source": [
        "print(\"This line runs first.\")\n",
        "print(\"This line runs last.\")"
      ],
      "metadata": {
        "id": "j1DR0vrFS7dX"
      },
      "execution_count": null,
      "outputs": []
    },
    {
      "cell_type": "code",
      "source": [
        "# Lines with a \"#\" at the beginning won't run.\n",
        "# These are called comments, and they're useful for annotating code as you work.\n",
        "print(\"Python doesn't read comments!\")\n",
        "print(\"Try commenting out this line.\")"
      ],
      "metadata": {
        "id": "qXux202kTQLu"
      },
      "execution_count": null,
      "outputs": []
    },
    {
      "cell_type": "markdown",
      "source": [
        "Annotating code helps you keep track of what each line does.\n",
        "\n",
        "Working with unannotated code can be a nightmare; save yourself the headache and use comments!"
      ],
      "metadata": {
        "id": "bznwBMMaQCaA"
      }
    },
    {
      "cell_type": "code",
      "source": [
        "# If you try to run a line in Python that the interpreter can't understand, it\n",
        "# will raise an error.\n",
        "\n",
        "# Running this cell raises an error:\n",
        "# 1) Where in the code is the error raised?\n",
        "# 2) What kind of error is it?\n",
        "# 3) How do we fix it?\n",
        "\n",
        "print(99)\n",
        "print(problems)\n",
        "print(\"and this error is\")\n",
        "print(1)"
      ],
      "metadata": {
        "id": "QnNVpONrUBXP"
      },
      "execution_count": null,
      "outputs": []
    },
    {
      "cell_type": "markdown",
      "source": [
        "### 2 - Data Types & Operators\n",
        "\n",
        "All data in Python has a **data type** that defines how Python can interact with it. We will look at five data types today: **strings, integers, floating points, booleans**, and the **NoneType**."
      ],
      "metadata": {
        "id": "2zTaV5LtUSxX"
      }
    },
    {
      "cell_type": "code",
      "source": [
        "# Strings are sequences of characters surrounded by single or double quotes.\n",
        "print(\"My name is:\")\n",
        "print('') # <-- Print your name"
      ],
      "metadata": {
        "id": "Fk0xijkaTAtX"
      },
      "execution_count": null,
      "outputs": []
    },
    {
      "cell_type": "code",
      "source": [
        "print('What's wrong with this string?')"
      ],
      "metadata": {
        "id": "iThW4-eBTpYm"
      },
      "execution_count": null,
      "outputs": []
    },
    {
      "cell_type": "code",
      "source": [
        "print(\"You can also add \" + \"strings together \" + \"using the '+' operator!\")"
      ],
      "metadata": {
        "id": "UKI-un4uTsFE"
      },
      "execution_count": null,
      "outputs": []
    },
    {
      "cell_type": "markdown",
      "source": [
        "**Operators** are inbuilt functions in Python that can perform simple tasks on surrounding data, such as concatenating strings or basic arithmetic."
      ],
      "metadata": {
        "id": "UNaJDH4BUZoc"
      }
    },
    {
      "cell_type": "code",
      "source": [
        "# Integers are whole numbers.\n",
        "print(\"This is an integer: \")\n",
        "print(12)\n",
        "# Floating points are numbers with decimal points in them.\n",
        "print(\"And this is a floating point: \")\n",
        "print(1.2)"
      ],
      "metadata": {
        "id": "k__aTbYQUyzx"
      },
      "execution_count": null,
      "outputs": []
    },
    {
      "cell_type": "code",
      "source": [
        "# If you don't know what data type you're looking at, you can use type().\n",
        "mystery_variable = \"18\"\n",
        "type(mystery_variable)\n",
        "\n",
        "# Notice that the type is an abbreviation. What are the data type abbreviations\n",
        "# for integers and floating points?"
      ],
      "metadata": {
        "id": "PRIwsrtWVTV6"
      },
      "execution_count": null,
      "outputs": []
    },
    {
      "cell_type": "markdown",
      "source": [
        "Python has arithmetic operators for handling integers and floating points. They are:\n",
        "\n",
        "\"+\" : **Addition**, so $3+5$ is written as `3+5`\n",
        "\n",
        "\"-\" : **Subtraction**, so $3-5$ is written as `3-5`\n",
        "\n",
        "\"*\" : **Multiplication**, so $3*5$ is written as `3*5`\n",
        "\n",
        "\"/\" : **Division**, so $\\frac{3}{5}$ is written as `3/5`\n",
        "\n",
        "\"\\**\" : **Exponentiation**, so $3^5$ is written as `3**5`\n",
        "\n",
        "You can place any number of spaces before or after operators. Python doesn't care!"
      ],
      "metadata": {
        "id": "YOH8OGedW3Cj"
      }
    },
    {
      "cell_type": "code",
      "source": [
        "# In Jupyter Notebooks, running a cell will print the result of the last line,\n",
        "# so you don't always need to print() the results.\n",
        "# What will happen when you run this cell?\n",
        "3  +5 *       5"
      ],
      "metadata": {
        "id": "g3ItQmRMbTQD"
      },
      "execution_count": null,
      "outputs": []
    },
    {
      "cell_type": "markdown",
      "source": [
        "Below, solve $\\pi^3$ to three significant digits."
      ],
      "metadata": {
        "id": "QwHkCeCHbQlR"
      }
    },
    {
      "cell_type": "code",
      "source": [],
      "metadata": {
        "id": "EhupyBP1bQ6o"
      },
      "execution_count": null,
      "outputs": []
    },
    {
      "cell_type": "markdown",
      "source": [
        "Below, solve $\\frac{1+8*(12-10)}{3^2}$"
      ],
      "metadata": {
        "id": "6rZ-JOxwao54"
      }
    },
    {
      "cell_type": "code",
      "source": [],
      "metadata": {
        "id": "5h_ZDkiTWPt8"
      },
      "execution_count": null,
      "outputs": []
    },
    {
      "cell_type": "code",
      "source": [
        "# Booleans are a binary data type that can be either True or False.\n",
        "type(true)"
      ],
      "metadata": {
        "id": "mUuPUxF4cmZH"
      },
      "execution_count": null,
      "outputs": []
    },
    {
      "cell_type": "code",
      "source": [
        "# Comparisons like <, >, <=, >=, and == turn floats and integers into booleans.\n",
        "# What is the value of this Python expression?\n",
        "3 < 5"
      ],
      "metadata": {
        "id": "LO11o9ICIwxz"
      },
      "execution_count": null,
      "outputs": []
    },
    {
      "cell_type": "code",
      "source": [
        "# Logic operators (not/and/or) turn booleans into booleans.\n",
        "# What is the value of each of these Python expressions?\n",
        "not True\n",
        "#True and True\n",
        "#True or False"
      ],
      "metadata": {
        "id": "SHKmm0a83dyS"
      },
      "execution_count": null,
      "outputs": []
    },
    {
      "cell_type": "code",
      "source": [
        "# What is the value of this Python expression?\n",
        "not ((3 < 5) and (4 > 3)) or True"
      ],
      "metadata": {
        "id": "6Mctg4-qJhWQ"
      },
      "execution_count": null,
      "outputs": []
    },
    {
      "cell_type": "code",
      "source": [
        "# NoneType is another data type used to indicate the absence of any data.\n",
        "type(None)"
      ],
      "metadata": {
        "id": "jXZ9rardc-8j"
      },
      "execution_count": null,
      "outputs": []
    },
    {
      "cell_type": "markdown",
      "source": [
        "### 3 - Variables\n",
        "\n",
        "So far, we've operated on defined data - `3 + 5` - but what if we want to work with undefined data - `x + y`?\n",
        "\n",
        "**Variables** are objects that point to/hold data. You can think of them as labeled baskets - putting things in variables makes them easier to keep track of and carry around."
      ],
      "metadata": {
        "id": "Tdr1yaO8dsBg"
      }
    },
    {
      "cell_type": "code",
      "source": [
        "# Variables are defined with the = sign.\n",
        "my_name = \"Chris\"\n",
        "\n",
        "# Variables are called by name. When you call a variable, it acts as the data inside it.\n",
        "my_introduction = \"My name is \" + my_name + \".\"\n",
        "\n",
        "# On top of everything, variables help make your code easier to read and bugfix!\n",
        "print(my_introduction)"
      ],
      "metadata": {
        "id": "2-mZzOTK4VN3"
      },
      "execution_count": null,
      "outputs": []
    },
    {
      "cell_type": "markdown",
      "source": [
        "* Add the variable `my_pronouns` to your introduction.\n",
        "\n",
        "* Add the variable `my_age` to your introduction."
      ],
      "metadata": {
        "id": "6iBPjrZg7IBK"
      }
    },
    {
      "cell_type": "markdown",
      "source": [
        "Variable names must start with a letter and may contain letters, numbers, and `_`."
      ],
      "metadata": {
        "id": "GYF90MK78bcJ"
      }
    },
    {
      "cell_type": "code",
      "source": [
        "# Fix these variable definitions.\n",
        "1st_word = \"Very\"\n",
        "second_word$ = \" well \"\n",
        "third word = \"done!\""
      ],
      "metadata": {
        "id": "j4a85RGZc85v"
      },
      "execution_count": null,
      "outputs": []
    },
    {
      "cell_type": "code",
      "source": [
        "# Remember to change all instances of a variable when you change its name.\n",
        "print(1st_word + second_word$ + third word)"
      ],
      "metadata": {
        "id": "2DAvNH_Q8KT5"
      },
      "execution_count": null,
      "outputs": []
    },
    {
      "cell_type": "markdown",
      "source": [
        "### 4 - Functions\n",
        "**Functions** allow you to perform multiple operations with a single line of code."
      ],
      "metadata": {
        "id": "KjC8cigyRqYe"
      }
    },
    {
      "cell_type": "code",
      "source": [
        "# Define a function named \"fav_color\" that prints your name and favorite color."
      ],
      "metadata": {
        "id": "9l7pFZqNsyIX"
      },
      "execution_count": null,
      "outputs": []
    },
    {
      "cell_type": "code",
      "source": [
        "# After defining a function, you can call it by name to run it.\n",
        "fav_color()"
      ],
      "metadata": {
        "id": "v4-vZjsYs2y6"
      },
      "execution_count": null,
      "outputs": []
    },
    {
      "cell_type": "markdown",
      "source": [
        "* Redefine \"fav_color\" such that it takes a name and a color as arguments.\n",
        "* Redefine \"fav_color\" such that it **returns** the result instead of printing it."
      ],
      "metadata": {
        "id": "PdzjVLjUAWAM"
      }
    },
    {
      "cell_type": "code",
      "source": [
        "# Functions can help cut down on redundant code: if you want to do the same thing\n",
        "# multiple times in your code, it can be more efficient (in terms of your time)\n",
        "# to make that thing a function.\n",
        "fav_color(name = my_name, color = \"unknown\")\n",
        "fav_color(name = \"Taylor Swift\", color = \"red\")\n",
        "fav_color(name = \"Selena Gomez\", color = \"green\")"
      ],
      "metadata": {
        "id": "ivIKrpvw-kaa"
      },
      "execution_count": null,
      "outputs": []
    },
    {
      "cell_type": "markdown",
      "source": [
        "* Define the [Rick Lax function](https://www.facebook.com/watch/?v=515681688613689) below."
      ],
      "metadata": {
        "id": "_AlOfsitA25D"
      }
    },
    {
      "cell_type": "code",
      "source": [],
      "metadata": {
        "id": "tIc6PZEWXAtn"
      },
      "execution_count": null,
      "outputs": []
    },
    {
      "cell_type": "markdown",
      "source": [
        "The full list of built-in Python functions can be found [here](https://docs.python.org/3/library/functions.html).\n",
        "\n",
        "This isn't enough functions to make plots, or build an LLM, or even do basic trigonometry! We need MORE!"
      ],
      "metadata": {
        "id": "k0TWqihOCFHI"
      }
    },
    {
      "cell_type": "markdown",
      "source": [
        "### 5 - Modules\n",
        "\n",
        "**Modules** add more functions (and other goodies) to your Python environment."
      ],
      "metadata": {
        "id": "7gy8wCNyB88K"
      }
    },
    {
      "cell_type": "code",
      "source": [
        "# Import the math module\n"
      ],
      "metadata": {
        "id": "Xz1_GfulDS3B"
      },
      "execution_count": null,
      "outputs": []
    },
    {
      "cell_type": "markdown",
      "source": [
        "The documentation for this particular module can be found [here](https://docs.python.org/3/library/math.html).\n",
        "* Print the value of pi.\n",
        "* Print the natural log value of 100.\n",
        "* Print the cosine of 0."
      ],
      "metadata": {
        "id": "d62sDFWpD9Et"
      }
    },
    {
      "cell_type": "code",
      "source": [],
      "metadata": {
        "id": "peNAEsatD1yL"
      },
      "execution_count": null,
      "outputs": []
    },
    {
      "cell_type": "markdown",
      "source": [
        "### 6 - Turtles!!!"
      ],
      "metadata": {
        "id": "CiT4gOhIXRvk"
      }
    },
    {
      "cell_type": "code",
      "execution_count": null,
      "metadata": {
        "id": "y84SeLokQlKa"
      },
      "outputs": [],
      "source": [
        "# This cell installs the module. It may take a while.\n",
        "# Thankfully, you only need to run this once on a new machine.\n",
        "!pip3 install ColabTurtle"
      ]
    },
    {
      "cell_type": "code",
      "source": [
        "# Load the ColabTurtle.Turtle module\n"
      ],
      "metadata": {
        "id": "YlrESqVzDmMP"
      },
      "execution_count": null,
      "outputs": []
    },
    {
      "cell_type": "code",
      "source": [
        "# Here is an example of how Turtle works\n",
        "initializeTurtle()\n",
        "forward(100)\n",
        "right(90)\n",
        "forward(100)"
      ],
      "metadata": {
        "id": "G5K_AM1SQqn-"
      },
      "execution_count": null,
      "outputs": []
    },
    {
      "cell_type": "markdown",
      "source": [
        "* Draw a square by adding more code.\n",
        "* Draw a LOT of squares, using a square-drawing function."
      ],
      "metadata": {
        "id": "ENX9D1XSFI1f"
      }
    },
    {
      "cell_type": "markdown",
      "source": [
        "### Turtle Functions\n",
        "\n",
        "These are all the functions in the ColabTurtle module. Experiment with them below to see what each does.\n",
        "\n",
        "**Move**: `forward(dist), backward(dist), right(deg), left(deg), goto(x,y), setheading(deg), home(), undo()`\n",
        "\n",
        "**Turtle State**: `position(), heading()`\n",
        "\n",
        "**Pen**: `pendown(), penup(), pensize(width), pencolor(color), fillcolor(color), begin_fill(), end_fill()`\n",
        "\n",
        "**Erase**: `reset()`"
      ],
      "metadata": {
        "id": "iavAM9ZiX7ks"
      }
    },
    {
      "cell_type": "code",
      "source": [
        "# Draw a house. Remember to paint it your favorite color :)\n"
      ],
      "metadata": {
        "id": "_vk1aRs1Yu36"
      },
      "execution_count": null,
      "outputs": []
    }
  ]
}