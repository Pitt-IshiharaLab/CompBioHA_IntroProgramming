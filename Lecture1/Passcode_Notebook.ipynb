{
 "cells": [
  {
   "cell_type": "code",
   "execution_count": 1,
   "metadata": {},
   "outputs": [],
   "source": [
    "import string\n",
    "import random\n",
    "\n",
    "def gen_secret_message(password=\"CompBio\",sep=\"dN4s3q\",len_pass_seq=7,n_seq=20,seed=42,max_tries=10,min_seq_len=4,max_seq_len=32):\n",
    "    \"\"\"Function to generate a message that contains a secret password embedded in it\"\"\"\n",
    "    random.seed(seed)\n",
    "    len_password = len(password)\n",
    "    n_try = 0\n",
    "    pass_seq = \"&\"*len_pass_seq\n",
    "    random_sequence_lengths = [x for x in range(min_seq_len,max_seq_len+1) if x != len_pass_seq]\n",
    "\n",
    "\n",
    "    if len([x for x in password if not (x in string.digits+string.ascii_letters+\" \")])>0:\n",
    "        raise ValueError(\"Password should only be alphanumeric.\")\n",
    "\n",
    "    while True:\n",
    "        seq_list = [pass_seq]*len_password\n",
    "        for i in range(n_seq):\n",
    "            short_seq_len = random.choice(random_sequence_lengths)\n",
    "            short_seq = \"\"\n",
    "            for i in range(short_seq_len):\n",
    "                short_seq += random.choice(string.digits+string.ascii_letters+\"   \")\n",
    "            seq_list.append(short_seq)\n",
    "        random.shuffle(seq_list)\n",
    "\n",
    "        prelim_message = sep.join(seq_list)\n",
    "\n",
    "        secret = {}\n",
    "        for letter in password:\n",
    "            secret[letter] = [i for i, l in enumerate(prelim_message) if l == letter]\n",
    "\n",
    "        secret.values\n",
    "        if not 0 in [len(x) for x in secret.values()]:\n",
    "            break\n",
    "        \n",
    "        n_try += 1\n",
    "        if n_try >= max_tries:\n",
    "            raise ValueError(\n",
    "                \"No valid password characters were extracted.\"\n",
    "                 +\"Consider increasing `n_seq` or shortening the expected password length.\"\n",
    "                )\n",
    "    \n",
    "    for n, sep_seq_index in enumerate([i for i, st in enumerate(seq_list) if st == pass_seq]):\n",
    "        str_index = str(random.choice(secret[password[n]]))\n",
    "\n",
    "        for left in range(len_pass_seq - len(str_index)):\n",
    "            if random.choice([True,False]):\n",
    "                str_index += random.choice(string.ascii_letters+\" \")\n",
    "            else:\n",
    "                str_index = random.choice(string.ascii_letters+\" \") + str_index\n",
    "        \n",
    "        seq_list[sep_seq_index] = str_index\n",
    "\n",
    "    message = sep.join(seq_list)\n",
    "\n",
    "\n",
    "    return message\n"
   ]
  },
  {
   "cell_type": "markdown",
   "metadata": {},
   "source": [
    "# Secret message!\n",
    "\n",
    "There is a secret message hiden in this long string of characters \n",
    "\n",
    "\n",
    "CdhxedjyAqHqx  w6bSz50GgxkdN4s3quPfv5aRExqEuxOgCWE91Wc9r xdN4s3qUS1e9j4LiTg5DK5JqvdJQjukmQ3mdN4s3qpDPLUVfvs8HdN4s3qI8vLAkUC1dN4s3qe3zvshdbS43brt 3pRsVz0kSHdN4s3qJSuQG0mdN4s3qPKsh b6ejkS8NMXw1eyHeBTdN4s3qts09dN4s3qLk0F 2eKDdN4s3qzR403NtdN4s3qYCD91BGdN4s3q7uaa 8ggYlxSdN4s3qaBKo85tBatcMzWKkLdN4s3qof146sRdN4s3q joBr77E76Z k7an88dN4s3qNxWAdN4s3qqy9lvkXMysF7t4EPdN4s3q8rEr OWixhvxSdN4s3qW0x m dC pdN4s3qHdvooVhSnzXv9Uc61bulQ ZrP7lMdN4s3qN273bpDdN4s3qpF371TPdN4s3qGQvykdM4YspWIDts3oPGz8zIPG3edN4s3q7t84G9uz rgYvYQoccTJSQX6c7PdN4s3qo508WXZdN4s3qjrHdbMcJIx5Wf\n",
    "\n",
    "### 🔐 Password Extraction Logic\n",
    "\n",
    "1. **Original message**: A long string of jumbled alphanumeric characters and digits, structured to hide the password.  \n",
    "   - Example: `\"akfj3dN4s3q7dsf8adN4s3q...\"`\n",
    "\n",
    "2. **Splitter logic**: The message is **split** into chunks using the separator `\"dN4s3q\"`, resulting in a list of segments.\n",
    "\n",
    "3. **Length filter**: From the resulting list, keep only the segments whose length is exactly `7`.\n",
    "\n",
    "4. **Index extraction**: From each of the valid chunks, **extract the embedded number** (assumed to be a digit or digits inside the chunk).\n",
    "\n",
    "5. **Password build**: Use each extracted number as an **index into the original message** to get a character. The characters collected in order form the final password."
   ]
  },
  {
   "cell_type": "markdown",
   "metadata": {},
   "source": [
    "### 🧰 Useful Python Tools for Password Extraction\n",
    "\n",
    "#### 1. Defining Variables\n",
    "- Assignment operator: `=`\n",
    "- String definition: `string = \"some_text\"` or `other_string = 'other_text'`\n",
    "- Integer definition: `n = 7`\n",
    "- Empty list: `my_list = []`\n",
    "\n",
    "#### 2. String Operations\n",
    "- `string.split(sep)` → splits a string using a specific separator like `\"dN4s3q\"`\n",
    "- `len(string)` → gets the length of a string or list\n",
    "- `'substring' in string` → checks if a substring is present\n",
    "- `string[index]` → accesses a specific character at the given index\n",
    "- `.isdigit()` → checks if a string consists only of digits\n",
    "- `.join(list)` → joins elements of a list into a single string\n",
    "\n",
    "#### 3. List Operations\n",
    "- `.append(x)` → adds an item to the end of a list\n",
    "- `my_list[i]` → retrieves the element at index `i`\n",
    "\n",
    "\n",
    "#### 4. Type Conversion\n",
    "- `int(string)` → converts a numeric string to an integer\n",
    "- `str(number)` → converts a number to a string\n",
    "\n",
    "#### 5. Control Flow\n",
    "- `for` loops → iterate over items\n",
    "    - `for item in my_list:` → loops over the elements of a list\n",
    "- `if` statements → conditional logic\n",
    "    - `if len(item) == 7:` → filters items by length"
   ]
  },
  {
   "cell_type": "code",
   "execution_count": 2,
   "metadata": {},
   "outputs": [
    {
     "name": "stdout",
     "output_type": "stream",
     "text": [
      "CdhxedjyAqHqx  w6bSz50GgxkdN4s3quPfv5aRExqEuxOgCWE91Wc9r xdN4s3qUS1e9j4LiTg5DK5JqvdJQjukmQ3mdN4s3qpDPLUVfvs8HdN4s3qI8vLAkUC1dN4s3qe3zvshdbS43brt 3pRsVz0kSHdN4s3qJSuQG0mdN4s3qPKsh b6ejkS8NMXw1eyHeBTdN4s3qts09dN4s3qLk0F 2eKDdN4s3qzR403NtdN4s3qYCD91BGdN4s3q7uaa 8ggYlxSdN4s3qaBKo85tBatcMzWKkLdN4s3qof146sRdN4s3q joBr77E76Z k7an88dN4s3qNxWAdN4s3qqy9lvkXMysF7t4EPdN4s3q8rEr OWixhvxSdN4s3qW0x m dC pdN4s3qHdvooVhSnzXv9Uc61bulQ ZrP7lMdN4s3qN273bpDdN4s3qpF371TPdN4s3qGQvykdM4YspWIDts3oPGz8zIPG3edN4s3q7t84G9uz rgYvYQoccTJSQX6c7PdN4s3qo508WXZdN4s3qjrHdbMcJIx5Wf\n"
     ]
    }
   ],
   "source": [
    "# Fix this code to extract the correct password from the message!\n",
    "message = gen_secret_message()\n",
    "print(message)"
   ]
  },
  {
   "cell_type": "code",
   "execution_count": 3,
   "metadata": {},
   "outputs": [
    {
     "name": "stdout",
     "output_type": "stream",
     "text": [
      "Password: CompBio\n"
     ]
    }
   ],
   "source": [
    "# Step 1: Split the message into parts using 'sep'\n",
    "parts = message.split(\"dN4s3q\")\n",
    "\n",
    "# Step 2: Filter out only numeric parts of length 7\n",
    "useful = []\n",
    "for p in parts:\n",
    "    if len(p) == 7:\n",
    "        useful.append(p)\n",
    "\n",
    "# Step 3: Extract the numbers from the strings\n",
    "indices_numbers = []\n",
    "for u in useful:\n",
    "    number = \"\"\n",
    "    for char in u:\n",
    "        if char.isdigit():\n",
    "            number += char\n",
    "    number = int(number)\n",
    "    indices_numbers.append(number)\n",
    "\n",
    "# Step 4: Use these numbers as indices to pull characters from the original message\n",
    "password_chars = []\n",
    "for i in indices_numbers:\n",
    "    password_chars.append(message[int(i)])\n",
    "\n",
    "# Step 4: Combine into password\n",
    "password = \"\".join(password_chars)\n",
    "print(\"Password:\", password)"
   ]
  },
  {
   "cell_type": "code",
   "execution_count": 21,
   "metadata": {},
   "outputs": [
    {
     "data": {
      "text/plain": [
       "'CompBio'"
      ]
     },
     "execution_count": 21,
     "metadata": {},
     "output_type": "execute_result"
    }
   ],
   "source": [
    "# One line solution to the code\n",
    "''.join([message[int(''.join(c for c in x if not c.isalpha()))] for x in message.split(\"dN4s3q\") if len(x)==7])"
   ]
  },
  {
   "cell_type": "code",
   "execution_count": null,
   "metadata": {},
   "outputs": [],
   "source": []
  },
  {
   "cell_type": "code",
   "execution_count": null,
   "metadata": {},
   "outputs": [],
   "source": []
  }
 ],
 "metadata": {
  "kernelspec": {
   "display_name": "ppc",
   "language": "python",
   "name": "python3"
  },
  "language_info": {
   "codemirror_mode": {
    "name": "ipython",
    "version": 3
   },
   "file_extension": ".py",
   "mimetype": "text/x-python",
   "name": "python",
   "nbconvert_exporter": "python",
   "pygments_lexer": "ipython3",
   "version": "3.12.7"
  }
 },
 "nbformat": 4,
 "nbformat_minor": 2
}
